{
 "cells": [
  {
   "cell_type": "markdown",
   "metadata": {},
   "source": [
    "# Programming Assignment 1\n",
    "\n",
    "## Elisabeth Anne R. Gonzales - 2ECE-D"
   ]
  },
  {
   "cell_type": "markdown",
   "metadata": {},
   "source": [
    "### Alphabet Soup Problem"
   ]
  },
  {
   "cell_type": "code",
   "execution_count": 13,
   "metadata": {},
   "outputs": [
    {
     "name": "stdout",
     "output_type": "stream",
     "text": [
      "efloprssuuu\n"
     ]
    }
   ],
   "source": [
    "# start of program\n",
    "\n",
    "# initialize a function that sorts the letters of a given word alphabetically\n",
    "def alphabet_soup(word):\n",
    "    sorted_word = ''.join(sorted(word)) #sorts the word according to the ASCII\n",
    "    return sorted_word\n",
    "\n",
    "# lets the user input the word himself/herself\n",
    "word = input(\"Type your word: \")\n",
    "result = alphabet_soup(word)\n",
    "print(result)\n",
    "\n",
    "# end of program\n",
    "# note: only works when the case of the word is uniform (all lowercase/all uppercase only)\n",
    "# to be developed further"
   ]
  },
  {
   "cell_type": "markdown",
   "metadata": {},
   "source": [
    "### Emoticon Problem"
   ]
  },
  {
   "cell_type": "code",
   "execution_count": 1,
   "metadata": {},
   "outputs": [
    {
     "name": "stdout",
     "output_type": "stream",
     "text": [
      "I am both :(( and >:( at the same time.\n"
     ]
    }
   ],
   "source": [
    "# start of program\n",
    "\n",
    "#initialize a function that changes particular words to emoticons\n",
    "def emotify(phrase):\n",
    "    emoticons_dict = {\"smile\":\":)\", \"grin\":\":D\", \"sad\":\":((\", \"mad\":\">:(\"} # sets a dictionary of words with corresponding emoticons\n",
    "    for word, emoticon in emoticons_dict.items():\n",
    "        phrase = phrase.replace(word, emoticon) # replaces the words found in the dictionary into the corresponding emoticons\n",
    "    return phrase\n",
    "\n",
    "sentence = input(\"Phrase to emotify: \")\n",
    "new_sentence = emotify(sentence)\n",
    "print(new_sentence)\n",
    "# end of program"
   ]
  },
  {
   "cell_type": "markdown",
   "metadata": {},
   "source": [
    "### Unpacking List Problem"
   ]
  },
  {
   "cell_type": "code",
   "execution_count": 12,
   "metadata": {},
   "outputs": [
    {
     "name": "stdout",
     "output_type": "stream",
     "text": [
      "first: 2     middle: [4, 6, 8]     last: 10\n"
     ]
    }
   ],
   "source": [
    "# start of program\n",
    "\n",
    "# initialize the list \"writeyourcodehere\"\n",
    "writeyourcodehere = []\n",
    "\n",
    "# lets the user decide on how many numbers to input\n",
    "length = int(input(\"How many numbers will you input? \"))\n",
    "\n",
    "for i in range(length):\n",
    "    while True:\n",
    "        try:\n",
    "            item = int(input(f\"Enter item #{i+1}: \"))\n",
    "            writeyourcodehere.append(item)\n",
    "            break\n",
    "        except ValueError:\n",
    "            print(\"Invalid input. Try a different input.\") # when the input in invalid\n",
    "\n",
    "first_item = writeyourcodehere.pop(0) # separates and stores the first item in the list\n",
    "last_item = writeyourcodehere.pop() # separates and stores the last item in the list\n",
    "\n",
    "print(f\"first: {first_item}     middle: {writeyourcodehere}     last: {last_item}\")"
   ]
  }
 ],
 "metadata": {
  "kernelspec": {
   "display_name": "Python 3",
   "language": "python",
   "name": "python3"
  },
  "language_info": {
   "codemirror_mode": {
    "name": "ipython",
    "version": 3
   },
   "file_extension": ".py",
   "mimetype": "text/x-python",
   "name": "python",
   "nbconvert_exporter": "python",
   "pygments_lexer": "ipython3",
   "version": "3.11.9"
  }
 },
 "nbformat": 4,
 "nbformat_minor": 2
}
